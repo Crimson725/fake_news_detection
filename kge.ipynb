{
  "cells": [
    {
      "cell_type": "markdown",
      "metadata": {
        "id": "view-in-github",
        "colab_type": "text"
      },
      "source": [
        "<a href=\"https://colab.research.google.com/github/Crimson725/fake_news_detection/blob/master/kge.ipynb\" target=\"_parent\"><img src=\"https://colab.research.google.com/assets/colab-badge.svg\" alt=\"Open In Colab\"/></a>"
      ]
    },
    {
      "cell_type": "markdown",
      "metadata": {
        "id": "-qumm262x_2p"
      },
      "source": [
        "# Install pykeen"
      ]
    },
    {
      "cell_type": "code",
      "execution_count": null,
      "metadata": {
        "colab": {
          "base_uri": "https://localhost:8080/"
        },
        "id": "8cgbTMRQtNR9",
        "outputId": "ee4b15e8-4f77-404c-d1a1-438d49f1ffca"
      },
      "outputs": [
        {
          "output_type": "stream",
          "name": "stdout",
          "text": [
            "Looking in indexes: https://pypi.org/simple, https://us-python.pkg.dev/colab-wheels/public/simple/\n",
            "Collecting pykeen\n",
            "  Downloading pykeen-1.10.1-py3-none-any.whl (739 kB)\n",
            "\u001b[2K     \u001b[90m━━━━━━━━━━━━━━━━━━━━━━━━━━━━━━━━━━━━━━\u001b[0m \u001b[32m739.3/739.3 KB\u001b[0m \u001b[31m30.1 MB/s\u001b[0m eta \u001b[36m0:00:00\u001b[0m\n",
            "\u001b[?25hRequirement already satisfied: pyyaml in /usr/local/lib/python3.8/dist-packages (from pykeen) (6.0)\n",
            "Requirement already satisfied: tqdm in /usr/local/lib/python3.8/dist-packages (from pykeen) (4.64.1)\n",
            "Requirement already satisfied: scikit-learn in /usr/local/lib/python3.8/dist-packages (from pykeen) (1.0.2)\n",
            "Collecting optuna>=2.0.0\n",
            "  Downloading optuna-3.1.0-py3-none-any.whl (365 kB)\n",
            "\u001b[2K     \u001b[90m━━━━━━━━━━━━━━━━━━━━━━━━━━━━━━━━━━━━━━\u001b[0m \u001b[32m365.3/365.3 KB\u001b[0m \u001b[31m44.1 MB/s\u001b[0m eta \u001b[36m0:00:00\u001b[0m\n",
            "\u001b[?25hCollecting click-default-group\n",
            "  Downloading click-default-group-1.2.2.tar.gz (3.3 kB)\n",
            "  Preparing metadata (setup.py) ... \u001b[?25l\u001b[?25hdone\n",
            "Collecting more-click\n",
            "  Downloading more_click-0.1.2-py3-none-any.whl (6.7 kB)\n",
            "Collecting docdata\n",
            "  Downloading docdata-0.0.3-py3-none-any.whl (5.8 kB)\n",
            "Collecting torch-ppr>=0.0.7\n",
            "  Downloading torch_ppr-0.0.8-py3-none-any.whl (12 kB)\n",
            "Requirement already satisfied: more-itertools in /usr/local/lib/python3.8/dist-packages (from pykeen) (9.0.0)\n",
            "Collecting pystow>=0.4.3\n",
            "  Downloading pystow-0.5.0-py3-none-any.whl (37 kB)\n",
            "Requirement already satisfied: tabulate in /usr/local/lib/python3.8/dist-packages (from pykeen) (0.8.10)\n",
            "Requirement already satisfied: scipy>=1.7.0 in /usr/local/lib/python3.8/dist-packages (from pykeen) (1.7.3)\n",
            "Collecting dataclasses-json\n",
            "  Downloading dataclasses_json-0.5.7-py3-none-any.whl (25 kB)\n",
            "Requirement already satisfied: pandas>=1.0.0 in /usr/local/lib/python3.8/dist-packages (from pykeen) (1.3.5)\n",
            "Requirement already satisfied: click in /usr/local/lib/python3.8/dist-packages (from pykeen) (8.1.3)\n",
            "Collecting class-resolver>=0.3.10\n",
            "  Downloading class_resolver-0.4.0-py3-none-any.whl (22 kB)\n",
            "Collecting torch-max-mem>=0.0.4\n",
            "  Downloading torch_max_mem-0.0.4-py3-none-any.whl (8.5 kB)\n",
            "Requirement already satisfied: requests in /usr/local/lib/python3.8/dist-packages (from pykeen) (2.25.1)\n",
            "Requirement already satisfied: protobuf<4.0.0 in /usr/local/lib/python3.8/dist-packages (from pykeen) (3.19.6)\n",
            "Requirement already satisfied: typing-extensions in /usr/local/lib/python3.8/dist-packages (from pykeen) (4.5.0)\n",
            "Requirement already satisfied: torch>=1.10 in /usr/local/lib/python3.8/dist-packages (from pykeen) (1.13.1+cu116)\n",
            "Collecting rexmex>=0.1.3\n",
            "  Downloading rexmex-0.1.3.tar.gz (21 kB)\n",
            "  Installing build dependencies ... \u001b[?25l\u001b[?25hdone\n",
            "  Getting requirements to build wheel ... \u001b[?25l\u001b[?25hdone\n",
            "  Installing backend dependencies ... \u001b[?25l\u001b[?25hdone\n",
            "  Preparing metadata (pyproject.toml) ... \u001b[?25l\u001b[?25hdone\n",
            "Requirement already satisfied: numpy in /usr/local/lib/python3.8/dist-packages (from pykeen) (1.22.4)\n",
            "Collecting cmaes>=0.9.1\n",
            "  Downloading cmaes-0.9.1-py3-none-any.whl (21 kB)\n",
            "Requirement already satisfied: packaging>=20.0 in /usr/local/lib/python3.8/dist-packages (from optuna>=2.0.0->pykeen) (23.0)\n",
            "Requirement already satisfied: sqlalchemy>=1.3.0 in /usr/local/lib/python3.8/dist-packages (from optuna>=2.0.0->pykeen) (1.4.46)\n",
            "Collecting alembic>=1.5.0\n",
            "  Downloading alembic-1.9.4-py3-none-any.whl (210 kB)\n",
            "\u001b[2K     \u001b[90m━━━━━━━━━━━━━━━━━━━━━━━━━━━━━━━━━━━━━━\u001b[0m \u001b[32m210.5/210.5 KB\u001b[0m \u001b[31m27.9 MB/s\u001b[0m eta \u001b[36m0:00:00\u001b[0m\n",
            "\u001b[?25hCollecting colorlog\n",
            "  Downloading colorlog-6.7.0-py2.py3-none-any.whl (11 kB)\n",
            "Requirement already satisfied: python-dateutil>=2.7.3 in /usr/local/lib/python3.8/dist-packages (from pandas>=1.0.0->pykeen) (2.8.2)\n",
            "Requirement already satisfied: pytz>=2017.3 in /usr/local/lib/python3.8/dist-packages (from pandas>=1.0.0->pykeen) (2022.7.1)\n",
            "Collecting marshmallow-enum<2.0.0,>=1.5.1\n",
            "  Downloading marshmallow_enum-1.5.1-py2.py3-none-any.whl (4.2 kB)\n",
            "Collecting typing-inspect>=0.4.0\n",
            "  Downloading typing_inspect-0.8.0-py3-none-any.whl (8.7 kB)\n",
            "Requirement already satisfied: marshmallow<4.0.0,>=3.3.0 in /usr/local/lib/python3.8/dist-packages (from dataclasses-json->pykeen) (3.19.0)\n",
            "Requirement already satisfied: chardet<5,>=3.0.2 in /usr/local/lib/python3.8/dist-packages (from requests->pykeen) (4.0.0)\n",
            "Requirement already satisfied: certifi>=2017.4.17 in /usr/local/lib/python3.8/dist-packages (from requests->pykeen) (2022.12.7)\n",
            "Requirement already satisfied: urllib3<1.27,>=1.21.1 in /usr/local/lib/python3.8/dist-packages (from requests->pykeen) (1.26.14)\n",
            "Requirement already satisfied: idna<3,>=2.5 in /usr/local/lib/python3.8/dist-packages (from requests->pykeen) (2.10)\n",
            "Requirement already satisfied: joblib>=0.11 in /usr/local/lib/python3.8/dist-packages (from scikit-learn->pykeen) (1.2.0)\n",
            "Requirement already satisfied: threadpoolctl>=2.0.0 in /usr/local/lib/python3.8/dist-packages (from scikit-learn->pykeen) (3.1.0)\n",
            "Collecting Mako\n",
            "  Downloading Mako-1.2.4-py3-none-any.whl (78 kB)\n",
            "\u001b[2K     \u001b[90m━━━━━━━━━━━━━━━━━━━━━━━━━━━━━━━━━━━━━━━━\u001b[0m \u001b[32m78.7/78.7 KB\u001b[0m \u001b[31m11.3 MB/s\u001b[0m eta \u001b[36m0:00:00\u001b[0m\n",
            "\u001b[?25hRequirement already satisfied: importlib-resources in /usr/local/lib/python3.8/dist-packages (from alembic>=1.5.0->optuna>=2.0.0->pykeen) (5.12.0)\n",
            "Requirement already satisfied: importlib-metadata in /usr/local/lib/python3.8/dist-packages (from alembic>=1.5.0->optuna>=2.0.0->pykeen) (6.0.0)\n",
            "Requirement already satisfied: six>=1.5 in /usr/local/lib/python3.8/dist-packages (from python-dateutil>=2.7.3->pandas>=1.0.0->pykeen) (1.15.0)\n",
            "Requirement already satisfied: greenlet!=0.4.17 in /usr/local/lib/python3.8/dist-packages (from sqlalchemy>=1.3.0->optuna>=2.0.0->pykeen) (2.0.2)\n",
            "Collecting mypy-extensions>=0.3.0\n",
            "  Downloading mypy_extensions-1.0.0-py3-none-any.whl (4.7 kB)\n",
            "Requirement already satisfied: zipp>=0.5 in /usr/local/lib/python3.8/dist-packages (from importlib-metadata->alembic>=1.5.0->optuna>=2.0.0->pykeen) (3.15.0)\n",
            "Requirement already satisfied: MarkupSafe>=0.9.2 in /usr/local/lib/python3.8/dist-packages (from Mako->alembic>=1.5.0->optuna>=2.0.0->pykeen) (2.1.2)\n",
            "Building wheels for collected packages: rexmex, click-default-group\n",
            "  Building wheel for rexmex (pyproject.toml) ... \u001b[?25l\u001b[?25hdone\n",
            "  Created wheel for rexmex: filename=rexmex-0.1.3-py3-none-any.whl size=19970 sha256=e1d6d0ac62c4266cb45c12b8336af98419db4f43967542bebb89664cf4bcbb7f\n",
            "  Stored in directory: /root/.cache/pip/wheels/9f/da/52/89891d849a727b59e9cdb08dc24634399b6fe76e6da4e09501\n",
            "  Building wheel for click-default-group (setup.py) ... \u001b[?25l\u001b[?25hdone\n",
            "  Created wheel for click-default-group: filename=click_default_group-1.2.2-py3-none-any.whl size=3385 sha256=096f70c68b454d1bcabca817a1f4e4b07959ddfcca6cd8ca96695c4b3bcbc832\n",
            "  Stored in directory: /root/.cache/pip/wheels/7e/9f/ec/d087477ddc7c2807136ca08eb01b5f00e66da90eb4dbf323ab\n",
            "Successfully built rexmex click-default-group\n",
            "Installing collected packages: mypy-extensions, more-click, Mako, docdata, colorlog, cmaes, click-default-group, class-resolver, typing-inspect, torch-max-mem, pystow, marshmallow-enum, alembic, torch-ppr, rexmex, optuna, dataclasses-json, pykeen\n",
            "Successfully installed Mako-1.2.4 alembic-1.9.4 class-resolver-0.4.0 click-default-group-1.2.2 cmaes-0.9.1 colorlog-6.7.0 dataclasses-json-0.5.7 docdata-0.0.3 marshmallow-enum-1.5.1 more-click-0.1.2 mypy-extensions-1.0.0 optuna-3.1.0 pykeen-1.10.1 pystow-0.5.0 rexmex-0.1.3 torch-max-mem-0.0.4 torch-ppr-0.0.8 typing-inspect-0.8.0\n"
          ]
        }
      ],
      "source": [
        "!pip install pykeen"
      ]
    },
    {
      "cell_type": "code",
      "execution_count": null,
      "metadata": {
        "colab": {
          "base_uri": "https://localhost:8080/"
        },
        "id": "3KLVKFvEtDEm",
        "outputId": "3938ad9a-d254-4975-9754-2cebf2e223d0"
      },
      "outputs": [
        {
          "output_type": "stream",
          "name": "stderr",
          "text": [
            "INFO:pykeen.utils:Using opt_einsum\n"
          ]
        }
      ],
      "source": [
        "from pykeen.datasets import CSKG"
      ]
    },
    {
      "cell_type": "code",
      "execution_count": null,
      "metadata": {
        "colab": {
          "base_uri": "https://localhost:8080/"
        },
        "id": "yfP97UsW4TFO",
        "outputId": "9f738147-efde-489c-d608-fcbae2d21f48"
      },
      "outputs": [
        {
          "output_type": "stream",
          "name": "stderr",
          "text": [
            "INFO:pykeen.datasets.base:reordering columns: ['node1', 'relation', 'node2']\n",
            "INFO:pykeen.triples.splitting:done splitting triples to groups of sizes [2683381, 574841, 574842]\n"
          ]
        }
      ],
      "source": [
        "labels=CSKG().training.entity_id_to_label.values()\n",
        "\n"
      ]
    },
    {
      "cell_type": "markdown",
      "metadata": {
        "id": "zhYPrqvK1B7X"
      },
      "source": [
        "# Train CSKG embedding"
      ]
    },
    {
      "cell_type": "code",
      "execution_count": null,
      "metadata": {
        "colab": {
          "base_uri": "https://localhost:8080/",
          "height": 355,
          "referenced_widgets": [
            "268fafc7fd9243e9b8ac9a353d507c7d",
            "371da2bbc60f442eb5dd687f341ec7c6",
            "c415d31ec240484f8111cb5a80891b70",
            "4ce98b98420249bba55cd6822745ff97",
            "3ac529c1eeed4f3b93d9060d4bdc1e2e",
            "286643aa98314c558b0d822f7c3615d9",
            "935db9c7bb954113b5c997a069f271a6",
            "807e7e6eae9f41b7aed684188cf8348a",
            "6678e78a29cb4b179f19a1bf0209294a",
            "baa928b5e8f443aea39f44a89ddeb0fb",
            "3472325a1b164191ba21180a03e8c413",
            "64e52cbdb105434a97247ba179c28d79",
            "a7c24b9421a24bffaf8f82102e4860f0",
            "902e14f17ca64c519486c930e2f4dac0",
            "4fc4a8d6f46a467f9aec758c4fc2e798",
            "c205c34ea69d45c89f3281de777c26ea",
            "f94f3f15e6c2417d98357258205b3535",
            "244820f437e94a229ad56939a9543ef5",
            "03211e81e8e349149b9b6aba75cf6579",
            "c641d898a13a4f4ba190d6510ce39114",
            "b9f3ad8ca7de4cec906876654130f868",
            "49369eb46f9e47139d1ec1c8a9b6e4f4",
            "707ff1d45c4a4dc6878838d169e42a3b",
            "5eae5e49462d4db3bd984772bb878fe1",
            "a3cf564d70f54504af5354d2937081f0",
            "9ae96c32e292443c9f188fadcd66eb4d",
            "da4feac40eea4ed99a1caa2ef3d3658b",
            "8eaee2884cf848d6b3dbade5e5a0d62d",
            "fd044f1b536b47bcbcf20d4564e48f15",
            "d45011fc29e94b6794a7828d6a704263",
            "01da05cdda7842e0b438962d3adfba76",
            "cffb4a6f27e14a18832e39dcbbe2a10e",
            "c9a759b62def4aef84700aa6706a6a5f"
          ]
        },
        "id": "AHuyjKD3yGgq",
        "outputId": "b9086398-52a6-4bd3-d728-ee019265c16c"
      },
      "outputs": [
        {
          "name": "stderr",
          "output_type": "stream",
          "text": [
            "INFO:pykeen.utils:Using opt_einsum\n",
            "WARNING:pykeen.pipeline.api:No random seed is specified. Setting to 404932918.\n",
            "INFO:pykeen.datasets.utils:Caching preprocessed dataset to file:///root/.data/pykeen/datasets/cskg/cache/47DEQpj8HBSa-_TImW-5JCeuQeRkm5NM\n",
            "INFO:pykeen.datasets.base:downloading data from https://zenodo.org/record/4331372/files/cskg.tsv.gz to /root/.data/pykeen/datasets/cskg/cskg.tsv.gz\n",
            "INFO:pykeen.datasets.base:reordering columns: ['node1', 'relation', 'node2']\n",
            "INFO:pykeen.triples.splitting:done splitting triples to groups of sizes [2683381, 574841, 574842]\n",
            "INFO:pykeen.triples.triples_factory:Stored TriplesFactory(num_entities=2087833, num_relations=58, create_inverse_triples=False, num_triples=4598728, path=\"/root/.data/pykeen/datasets/cskg/cskg.tsv.gz\") to file:///root/.data/pykeen/datasets/cskg/cache/47DEQpj8HBSa-_TImW-5JCeuQeRkm5NM/training\n",
            "INFO:pykeen.datasets.base:Stored training factory to file:///root/.data/pykeen/datasets/cskg/cache/47DEQpj8HBSa-_TImW-5JCeuQeRkm5NM/training\n",
            "INFO:pykeen.triples.triples_factory:Stored TriplesFactory(num_entities=2087833, num_relations=58, create_inverse_triples=False, num_triples=574841, path=\"/root/.data/pykeen/datasets/cskg/cskg.tsv.gz\") to file:///root/.data/pykeen/datasets/cskg/cache/47DEQpj8HBSa-_TImW-5JCeuQeRkm5NM/testing\n",
            "INFO:pykeen.datasets.base:Stored testing factory to file:///root/.data/pykeen/datasets/cskg/cache/47DEQpj8HBSa-_TImW-5JCeuQeRkm5NM/testing\n",
            "INFO:pykeen.triples.triples_factory:Stored TriplesFactory(num_entities=2087833, num_relations=58, create_inverse_triples=False, num_triples=574842, path=\"/root/.data/pykeen/datasets/cskg/cskg.tsv.gz\") to file:///root/.data/pykeen/datasets/cskg/cache/47DEQpj8HBSa-_TImW-5JCeuQeRkm5NM/validation\n",
            "INFO:pykeen.datasets.base:Stored validation factory to file:///root/.data/pykeen/datasets/cskg/cache/47DEQpj8HBSa-_TImW-5JCeuQeRkm5NM/validation\n",
            "INFO:pykeen.pipeline.api:Using device: cuda:0\n"
          ]
        },
        {
          "data": {
            "application/vnd.jupyter.widget-view+json": {
              "model_id": "268fafc7fd9243e9b8ac9a353d507c7d",
              "version_major": 2,
              "version_minor": 0
            },
            "text/plain": [
              "Training epochs on cuda:0:   0%|          | 0/20 [00:00<?, ?epoch/s]"
            ]
          },
          "metadata": {},
          "output_type": "display_data"
        },
        {
          "data": {
            "application/vnd.jupyter.widget-view+json": {
              "model_id": "64e52cbdb105434a97247ba179c28d79",
              "version_major": 2,
              "version_minor": 0
            },
            "text/plain": [
              "Training batches on cuda:0:   0%|          | 0/1123 [00:00<?, ?batch/s]"
            ]
          },
          "metadata": {},
          "output_type": "display_data"
        },
        {
          "data": {
            "application/vnd.jupyter.widget-view+json": {
              "model_id": "707ff1d45c4a4dc6878838d169e42a3b",
              "version_major": 2,
              "version_minor": 0
            },
            "text/plain": [
              "Training batches on cuda:0:   0%|          | 0/1123 [00:00<?, ?batch/s]"
            ]
          },
          "metadata": {},
          "output_type": "display_data"
        }
      ],
      "source": [
        "from pykeen.pipeline import pipeline\n",
        "result=pipeline(\n",
        "    dataset=\"cskg\",\n",
        "    model=\"rotate\",\n",
        "    model_kwargs=dict(embedding_dim=64),\n",
        "    device=\"cuda:0\",\n",
        "    training_kwargs={\n",
        "      \"num_epochs\": 20,\n",
        "      \"batch_size\": 4096\n",
        "      },\n",
        "    use_tqdm=True\n",
        ")\n",
        "result.save_to_directory(\"/content/drive/MyDrive/kge/kge_model/rotate_cskg_64\")"
      ]
    },
    {
      "cell_type": "code",
      "execution_count": null,
      "metadata": {
        "colab": {
          "base_uri": "https://localhost:8080/"
        },
        "id": "KaYe4zvpa6T5",
        "outputId": "11f61a89-38a2-4693-f500-d50c33153c86"
      },
      "outputs": [
        {
          "name": "stdout",
          "output_type": "stream",
          "text": [
            "Sat Feb  4 03:15:13 2023       \n",
            "+-----------------------------------------------------------------------------+\n",
            "| NVIDIA-SMI 510.47.03    Driver Version: 510.47.03    CUDA Version: 11.6     |\n",
            "|-------------------------------+----------------------+----------------------+\n",
            "| GPU  Name        Persistence-M| Bus-Id        Disp.A | Volatile Uncorr. ECC |\n",
            "| Fan  Temp  Perf  Pwr:Usage/Cap|         Memory-Usage | GPU-Util  Compute M. |\n",
            "|                               |                      |               MIG M. |\n",
            "|===============================+======================+======================|\n",
            "|   0  Tesla T4            Off  | 00000000:00:04.0 Off |                    0 |\n",
            "| N/A   48C    P0    26W /  70W |   6690MiB / 15360MiB |      0%      Default |\n",
            "|                               |                      |                  N/A |\n",
            "+-------------------------------+----------------------+----------------------+\n",
            "                                                                               \n",
            "+-----------------------------------------------------------------------------+\n",
            "| Processes:                                                                  |\n",
            "|  GPU   GI   CI        PID   Type   Process name                  GPU Memory |\n",
            "|        ID   ID                                                   Usage      |\n",
            "|=============================================================================|\n",
            "|    0   N/A  N/A     89948      C                                    6687MiB |\n",
            "+-----------------------------------------------------------------------------+\n"
          ]
        }
      ],
      "source": [
        "!nvidia-smi"
      ]
    },
    {
      "cell_type": "markdown",
      "metadata": {
        "id": "LEHlIJFYnON7"
      },
      "source": [
        "# Save the model"
      ]
    },
    {
      "cell_type": "code",
      "execution_count": null,
      "metadata": {
        "colab": {
          "base_uri": "https://localhost:8080/",
          "height": 167
        },
        "id": "O9j1-PYkyQsD",
        "outputId": "6b19ad0e-e651-47f8-9d36-bd1720479245"
      },
      "outputs": [
        {
          "ename": "NameError",
          "evalue": "ignored",
          "output_type": "error",
          "traceback": [
            "\u001b[0;31m---------------------------------------------------------------------------\u001b[0m",
            "\u001b[0;31mNameError\u001b[0m                                 Traceback (most recent call last)",
            "\u001b[0;32m<ipython-input-4-5a2e32bc195d>\u001b[0m in \u001b[0;36m<module>\u001b[0;34m\u001b[0m\n\u001b[0;32m----> 1\u001b[0;31m \u001b[0mresult\u001b[0m\u001b[0;34m.\u001b[0m\u001b[0msave_to_directory\u001b[0m\u001b[0;34m(\u001b[0m\u001b[0;34m\"/content/drive/MyDrive/kge/kge_model/transe_cskg\"\u001b[0m\u001b[0;34m)\u001b[0m\u001b[0;34m\u001b[0m\u001b[0;34m\u001b[0m\u001b[0m\n\u001b[0m",
            "\u001b[0;31mNameError\u001b[0m: name 'result' is not defined"
          ]
        }
      ],
      "source": [
        "result.save_to_directory(\"/content/drive/MyDrive/kge/kge_model/transe_cskg\")"
      ]
    },
    {
      "cell_type": "markdown",
      "metadata": {
        "id": "bc13iqI7fjw7"
      },
      "source": [
        "# Load the model"
      ]
    },
    {
      "cell_type": "code",
      "execution_count": null,
      "metadata": {
        "id": "5GO_EFSJfmym"
      },
      "outputs": [],
      "source": [
        "import torch\n",
        "import pykeen"
      ]
    },
    {
      "cell_type": "code",
      "execution_count": null,
      "metadata": {
        "colab": {
          "base_uri": "https://localhost:8080/"
        },
        "id": "1KeSJBoTmOeq",
        "outputId": "8ab77b5c-fd39-454a-c48f-4e0c5b378cf1"
      },
      "outputs": [
        {
          "name": "stderr",
          "output_type": "stream",
          "text": [
            "INFO:pykeen.utils:Using opt_einsum\n"
          ]
        }
      ],
      "source": [
        "model=torch.load(\"/content/drive/MyDrive/kge/kge_model/transe_cskg/trained_model.pkl\")"
      ]
    },
    {
      "cell_type": "code",
      "execution_count": null,
      "metadata": {
        "colab": {
          "base_uri": "https://localhost:8080/"
        },
        "id": "74wOUSQDm8Qq",
        "outputId": "b01ab262-16cf-43ac-8680-cff36fc02196"
      },
      "outputs": [
        {
          "data": {
            "text/plain": [
              "ModuleList(\n",
              "  (0): Embedding(\n",
              "    (_embeddings): Embedding(2087833, 50)\n",
              "  )\n",
              ")"
            ]
          },
          "execution_count": 4,
          "metadata": {},
          "output_type": "execute_result"
        }
      ],
      "source": [
        "model.entity_representations"
      ]
    },
    {
      "cell_type": "code",
      "execution_count": null,
      "metadata": {
        "colab": {
          "base_uri": "https://localhost:8080/"
        },
        "id": "GPJI0bpVdijw",
        "outputId": "51b5870a-e5dd-48ba-8b57-850410d30f7a"
      },
      "outputs": [
        {
          "data": {
            "text/plain": [
              "ModuleList(\n",
              "  (0): Embedding(\n",
              "    (_embeddings): Embedding(58, 50)\n",
              "  )\n",
              ")"
            ]
          },
          "execution_count": 5,
          "metadata": {},
          "output_type": "execute_result"
        }
      ],
      "source": [
        "model.relation_representations"
      ]
    },
    {
      "cell_type": "code",
      "execution_count": null,
      "metadata": {
        "id": "3W0GJmuWnWc_"
      },
      "outputs": [],
      "source": [
        "entity_embedding_tensor = model.entity_representations[0](indices=None).detach().cpu().numpy()"
      ]
    },
    {
      "cell_type": "code",
      "execution_count": null,
      "metadata": {
        "colab": {
          "base_uri": "https://localhost:8080/"
        },
        "id": "-2jHPJQ5nY6r",
        "outputId": "d6291a9a-7b52-4f29-ec0d-e22362fec742"
      },
      "outputs": [
        {
          "name": "stdout",
          "output_type": "stream",
          "text": [
            "torch.float32\n",
            "torch.Size([50])\n",
            "\n"
          ]
        }
      ],
      "source": [
        "print(torch.from_numpy(entity_embedding_tensor[1]).dtype)\n",
        "print(torch.from_numpy(entity_embedding_tensor[1]).shape)\n",
        "print()"
      ]
    },
    {
      "cell_type": "code",
      "execution_count": null,
      "metadata": {
        "colab": {
          "base_uri": "https://localhost:8080/"
        },
        "id": "BZX4TaPxy-WW",
        "outputId": "03b111f2-4f63-4eff-af1d-fd221a462aab"
      },
      "outputs": [
        {
          "data": {
            "text/plain": [
              "array([0., 0., 0., 0., 0., 0., 0., 0., 0., 0., 0., 0., 0., 0., 0., 0., 0.,\n",
              "       0., 0., 0., 0., 0., 0., 0., 0., 0., 0., 0., 0., 0., 0., 0., 0., 0.,\n",
              "       0., 0., 0., 0., 0., 0., 0., 0., 0., 0., 0., 0., 0., 0., 0., 0.],\n",
              "      dtype=float32)"
            ]
          },
          "execution_count": 26,
          "metadata": {},
          "output_type": "execute_result"
        }
      ],
      "source": [
        "import numpy as np\n",
        "zero_tensor = np.zeros(50, dtype=np.float32)\n",
        "zero_tensor"
      ]
    },
    {
      "cell_type": "code",
      "execution_count": null,
      "metadata": {
        "id": "d073wQgInaU0"
      },
      "outputs": [],
      "source": [
        "from pykeen.datasets import CSKG"
      ]
    },
    {
      "cell_type": "code",
      "execution_count": null,
      "metadata": {
        "colab": {
          "base_uri": "https://localhost:8080/"
        },
        "id": "C93uqMRp6CTj",
        "outputId": "2b949851-2de2-46db-a85e-c1580edd715e"
      },
      "outputs": [
        {
          "name": "stderr",
          "output_type": "stream",
          "text": [
            "INFO:pykeen.datasets.base:downloading data from https://zenodo.org/record/4331372/files/cskg.tsv.gz to /root/.data/pykeen/datasets/cskg/cskg.tsv.gz\n",
            "INFO:pykeen.datasets.base:reordering columns: ['node1', 'relation', 'node2']\n",
            "INFO:pykeen.triples.splitting:done splitting triples to groups of sizes [2683381, 574841, 574842]\n"
          ]
        }
      ],
      "source": [
        "tf=CSKG().training"
      ]
    },
    {
      "cell_type": "code",
      "execution_count": null,
      "metadata": {
        "id": "QkTQzpwp6F8W"
      },
      "outputs": [],
      "source": [
        "import torch"
      ]
    },
    {
      "cell_type": "code",
      "execution_count": null,
      "metadata": {
        "colab": {
          "base_uri": "https://localhost:8080/"
        },
        "id": "ZTteGH1s6qDS",
        "outputId": "3260a8ce-1172-4fd1-9561-987e66d6abf3"
      },
      "outputs": [
        {
          "data": {
            "text/plain": [
              "['__annotations__',\n",
              " '__class__',\n",
              " '__delattr__',\n",
              " '__dict__',\n",
              " '__dir__',\n",
              " '__doc__',\n",
              " '__eq__',\n",
              " '__format__',\n",
              " '__ge__',\n",
              " '__getattribute__',\n",
              " '__gt__',\n",
              " '__hash__',\n",
              " '__init__',\n",
              " '__init_subclass__',\n",
              " '__le__',\n",
              " '__lt__',\n",
              " '__module__',\n",
              " '__ne__',\n",
              " '__new__',\n",
              " '__reduce__',\n",
              " '__reduce_ex__',\n",
              " '__repr__',\n",
              " '__setattr__',\n",
              " '__sizeof__',\n",
              " '__str__',\n",
              " '__subclasshook__',\n",
              " '__weakref__',\n",
              " '_add_inverse_triples_if_necessary',\n",
              " '_from_path_binary',\n",
              " '_get_binary_state',\n",
              " '_word_cloud',\n",
              " 'base_file_name',\n",
              " 'clone_and_exchange_triples',\n",
              " 'create',\n",
              " 'create_inverse_triples',\n",
              " 'create_lcwa_instances',\n",
              " 'create_slcwa_instances',\n",
              " 'entities_to_ids',\n",
              " 'entity_id_to_label',\n",
              " 'entity_labeling',\n",
              " 'entity_to_id',\n",
              " 'entity_word_cloud',\n",
              " 'extra_repr',\n",
              " 'file_name_entity_to_id',\n",
              " 'file_name_relation_to_id',\n",
              " 'from_labeled_triples',\n",
              " 'from_path',\n",
              " 'from_path_binary',\n",
              " 'get_inverse_relation_id',\n",
              " 'get_mask_for_relations',\n",
              " 'get_most_frequent_relations',\n",
              " 'iter_extra_repr',\n",
              " 'label_triples',\n",
              " 'map_triples',\n",
              " 'mapped_triples',\n",
              " 'metadata',\n",
              " 'new_with_restriction',\n",
              " 'num_entities',\n",
              " 'num_relations',\n",
              " 'num_triples',\n",
              " 'real_num_relations',\n",
              " 'relation_id_to_label',\n",
              " 'relation_inverter',\n",
              " 'relation_labeling',\n",
              " 'relation_to_id',\n",
              " 'relation_word_cloud',\n",
              " 'relations_to_ids',\n",
              " 'split',\n",
              " 'tensor_to_df',\n",
              " 'to_core_triples_factory',\n",
              " 'to_path_binary',\n",
              " 'triples',\n",
              " 'triples_file_name',\n",
              " 'with_labels']"
            ]
          },
          "execution_count": 15,
          "metadata": {},
          "output_type": "execute_result"
        }
      ],
      "source": [
        "dir(tf)"
      ]
    },
    {
      "cell_type": "code",
      "execution_count": null,
      "metadata": {
        "id": "jwPZEqaV6wGI"
      },
      "outputs": [],
      "source": [
        "tf.entity_labeling"
      ]
    },
    {
      "cell_type": "code",
      "execution_count": null,
      "metadata": {
        "id": "cgybOR-R-sb-"
      },
      "outputs": [],
      "source": [
        "try:\n",
        "  entity_id = torch.as_tensor(tf.entity_to_id(\"egypt\"))\n",
        "except:\n",
        "  entity_id=None"
      ]
    },
    {
      "cell_type": "code",
      "execution_count": null,
      "metadata": {
        "id": "uPOpDoXH-4Ab"
      },
      "outputs": [],
      "source": [
        "entity_id"
      ]
    },
    {
      "cell_type": "code",
      "execution_count": null,
      "metadata": {
        "id": "uQJTtcodBHTA"
      },
      "outputs": [],
      "source": [
        "from pykeen.datasets import Nations\n",
        "import torch"
      ]
    },
    {
      "cell_type": "code",
      "execution_count": null,
      "metadata": {
        "id": "WZeexW-Wf_So"
      },
      "outputs": [],
      "source": [
        "triples_factory = Nations().training"
      ]
    },
    {
      "cell_type": "code",
      "execution_count": null,
      "metadata": {
        "colab": {
          "base_uri": "https://localhost:8080/"
        },
        "id": "ye42DbV5f_2i",
        "outputId": "170a4563-dbcb-4df0-af9b-14fb49b1292b"
      },
      "outputs": [
        {
          "data": {
            "text/plain": [
              "19"
            ]
          },
          "execution_count": 13,
          "metadata": {},
          "output_type": "execute_result"
        }
      ],
      "source": [
        "entity_ids = triples_factory.relation_to_id[\"independence\"]\n",
        "entity_ids"
      ]
    },
    {
      "cell_type": "code",
      "execution_count": null,
      "metadata": {
        "colab": {
          "base_uri": "https://localhost:8080/"
        },
        "id": "zcnAyQd7gFzZ",
        "outputId": "90cc44bc-8276-44b9-eefc-dedf22a5e166"
      },
      "outputs": [
        {
          "data": {
            "text/plain": [
              "['__annotations__',\n",
              " '__class__',\n",
              " '__delattr__',\n",
              " '__dict__',\n",
              " '__dir__',\n",
              " '__doc__',\n",
              " '__eq__',\n",
              " '__format__',\n",
              " '__ge__',\n",
              " '__getattribute__',\n",
              " '__gt__',\n",
              " '__hash__',\n",
              " '__init__',\n",
              " '__init_subclass__',\n",
              " '__le__',\n",
              " '__lt__',\n",
              " '__module__',\n",
              " '__ne__',\n",
              " '__new__',\n",
              " '__reduce__',\n",
              " '__reduce_ex__',\n",
              " '__repr__',\n",
              " '__setattr__',\n",
              " '__sizeof__',\n",
              " '__str__',\n",
              " '__subclasshook__',\n",
              " '__weakref__',\n",
              " '_add_inverse_triples_if_necessary',\n",
              " '_from_path_binary',\n",
              " '_get_binary_state',\n",
              " '_word_cloud',\n",
              " 'base_file_name',\n",
              " 'clone_and_exchange_triples',\n",
              " 'create',\n",
              " 'create_inverse_triples',\n",
              " 'create_lcwa_instances',\n",
              " 'create_slcwa_instances',\n",
              " 'entities_to_ids',\n",
              " 'entity_id_to_label',\n",
              " 'entity_labeling',\n",
              " 'entity_to_id',\n",
              " 'entity_word_cloud',\n",
              " 'extra_repr',\n",
              " 'file_name_entity_to_id',\n",
              " 'file_name_relation_to_id',\n",
              " 'from_labeled_triples',\n",
              " 'from_path',\n",
              " 'from_path_binary',\n",
              " 'get_inverse_relation_id',\n",
              " 'get_mask_for_relations',\n",
              " 'get_most_frequent_relations',\n",
              " 'iter_extra_repr',\n",
              " 'label_triples',\n",
              " 'map_triples',\n",
              " 'mapped_triples',\n",
              " 'metadata',\n",
              " 'new_with_restriction',\n",
              " 'num_entities',\n",
              " 'num_relations',\n",
              " 'num_triples',\n",
              " 'real_num_relations',\n",
              " 'relation_id_to_label',\n",
              " 'relation_inverter',\n",
              " 'relation_labeling',\n",
              " 'relation_to_id',\n",
              " 'relation_word_cloud',\n",
              " 'relations_to_ids',\n",
              " 'split',\n",
              " 'tensor_to_df',\n",
              " 'to_core_triples_factory',\n",
              " 'to_path_binary',\n",
              " 'triples',\n",
              " 'triples_file_name',\n",
              " 'with_labels']"
            ]
          },
          "execution_count": 9,
          "metadata": {},
          "output_type": "execute_result"
        }
      ],
      "source": [
        "dir(triples_factory)"
      ]
    },
    {
      "cell_type": "code",
      "execution_count": null,
      "metadata": {
        "id": "UmXcshCRgr0W",
        "colab": {
          "base_uri": "https://localhost:8080/"
        },
        "outputId": "333e1c70-7dda-4228-e301-a46026df9bdb"
      },
      "outputs": [
        {
          "output_type": "stream",
          "name": "stdout",
          "text": [
            "/content/drive/MyDrive\n"
          ]
        }
      ],
      "source": [
        "%cd /content/drive/MyDrive"
      ]
    },
    {
      "cell_type": "code",
      "source": [
        "!zip -r Dual-CAN.zip /content/drive/MyDrive/Dual-CAN"
      ],
      "metadata": {
        "colab": {
          "base_uri": "https://localhost:8080/"
        },
        "id": "7Kh3Z9iqB6_W",
        "outputId": "db68e1a1-904e-41d0-8dfc-c8d23266dad5"
      },
      "execution_count": null,
      "outputs": [
        {
          "output_type": "stream",
          "name": "stdout",
          "text": [
            "  adding: content/drive/MyDrive/Dual-CAN/ (stored 0%)\n",
            "  adding: content/drive/MyDrive/Dual-CAN/Dual_CAN_model/ (stored 0%)\n",
            "  adding: content/drive/MyDrive/Dual-CAN/Dual_CAN_model/dataset.py (deflated 75%)\n",
            "  adding: content/drive/MyDrive/Dual-CAN/Dual_CAN_model/evaluate.py (deflated 70%)\n",
            "  adding: content/drive/MyDrive/Dual-CAN/Dual_CAN_model/utils.py (deflated 66%)\n",
            "  adding: content/drive/MyDrive/Dual-CAN/Dual_CAN_model/__pycache__/ (stored 0%)\n",
            "  adding: content/drive/MyDrive/Dual-CAN/Dual_CAN_model/__pycache__/utils.cpython-39.pyc (deflated 55%)\n",
            "  adding: content/drive/MyDrive/Dual-CAN/Dual_CAN_model/__pycache__/dataset.cpython-39.pyc (deflated 50%)\n",
            "  adding: content/drive/MyDrive/Dual-CAN/Dual_CAN_model/__pycache__/evaluate.cpython-39.pyc (deflated 42%)\n",
            "  adding: content/drive/MyDrive/Dual-CAN/Dual_CAN_model/__pycache__/model.cpython-39.pyc (deflated 53%)\n",
            "  adding: content/drive/MyDrive/Dual-CAN/Dual_CAN_model/__pycache__/train.cpython-39.pyc (deflated 45%)\n",
            "  adding: content/drive/MyDrive/Dual-CAN/Dual_CAN_model/cache/ (stored 0%)\n",
            "  adding: content/drive/MyDrive/Dual-CAN/Dual_CAN_model/cache/vocab.pkl (deflated 43%)\n",
            "  adding: content/drive/MyDrive/Dual-CAN/Dual_CAN_model/cache/label2idx.json (deflated 7%)\n",
            "  adding: content/drive/MyDrive/Dual-CAN/Dual_CAN_model/cache/embeddings.pt (deflated 8%)\n",
            "  adding: content/drive/MyDrive/Dual-CAN/Dual_CAN_model/preprocess.py (deflated 64%)\n",
            "  adding: content/drive/MyDrive/Dual-CAN/Dual_CAN_model/ckpt/ (stored 0%)\n",
            "  adding: content/drive/MyDrive/Dual-CAN/Dual_CAN_model/ckpt/.ipynb_checkpoints/ (stored 0%)\n",
            "  adding: content/drive/MyDrive/Dual-CAN/Dual_CAN_model/output/ (stored 0%)\n",
            "  adding: content/drive/MyDrive/Dual-CAN/Dual_CAN_model/output/LUN/ (stored 0%)\n",
            "  adding: content/drive/MyDrive/Dual-CAN/Dual_CAN_model/output/LUN/best_valid_log.txt (stored 0%)\n",
            "  adding: content/drive/MyDrive/Dual-CAN/Dual_CAN_model/output/LUN/log.txt (deflated 85%)\n",
            "  adding: content/drive/MyDrive/Dual-CAN/Dual_CAN_model/output/LUN/param.txt (deflated 44%)\n",
            "  adding: content/drive/MyDrive/Dual-CAN/Dual_CAN_model/main.py (deflated 72%)\n",
            "  adding: content/drive/MyDrive/Dual-CAN/Dual_CAN_model/train.py (deflated 73%)\n",
            "  adding: content/drive/MyDrive/Dual-CAN/Dual_CAN_model/model.py (deflated 74%)\n",
            "  adding: content/drive/MyDrive/Dual-CAN/README.md (deflated 51%)\n",
            "  adding: content/drive/MyDrive/Dual-CAN/compared_methods/ (stored 0%)\n",
            "  adding: content/drive/MyDrive/Dual-CAN/compared_methods/BERT_based/ (stored 0%)\n",
            "  adding: content/drive/MyDrive/Dual-CAN/compared_methods/BERT_based/dataset.py (deflated 74%)\n",
            "  adding: content/drive/MyDrive/Dual-CAN/compared_methods/BERT_based/evaluate.py (deflated 66%)\n",
            "  adding: content/drive/MyDrive/Dual-CAN/compared_methods/BERT_based/main.py (deflated 71%)\n",
            "  adding: content/drive/MyDrive/Dual-CAN/compared_methods/BERT_based/model.py (deflated 57%)\n",
            "  adding: content/drive/MyDrive/Dual-CAN/compared_methods/BERT_based/train.py (deflated 73%)\n",
            "  adding: content/drive/MyDrive/Dual-CAN/compared_methods/BERT_based_v2/ (stored 0%)\n",
            "  adding: content/drive/MyDrive/Dual-CAN/compared_methods/BERT_based_v2/dataset.py (deflated 79%)\n",
            "  adding: content/drive/MyDrive/Dual-CAN/compared_methods/BERT_based_v2/evaluate.py (deflated 69%)\n",
            "  adding: content/drive/MyDrive/Dual-CAN/compared_methods/BERT_based_v2/main.py (deflated 71%)\n",
            "  adding: content/drive/MyDrive/Dual-CAN/compared_methods/BERT_based_v2/model.py (deflated 67%)\n",
            "  adding: content/drive/MyDrive/Dual-CAN/compared_methods/BERT_based_v2/train.py (deflated 76%)\n",
            "  adding: content/drive/MyDrive/Dual-CAN/compared_methods/bigru/ (stored 0%)\n",
            "  adding: content/drive/MyDrive/Dual-CAN/compared_methods/bigru/dataset.py (deflated 75%)\n",
            "  adding: content/drive/MyDrive/Dual-CAN/compared_methods/bigru/evaluate.py (deflated 66%)\n",
            "  adding: content/drive/MyDrive/Dual-CAN/compared_methods/bigru/main.py (deflated 73%)\n",
            "  adding: content/drive/MyDrive/Dual-CAN/compared_methods/bigru/model.py (deflated 70%)\n",
            "  adding: content/drive/MyDrive/Dual-CAN/compared_methods/bigru/preprocess.py (deflated 64%)\n",
            "  adding: content/drive/MyDrive/Dual-CAN/compared_methods/bigru/train.py (deflated 73%)\n",
            "  adding: content/drive/MyDrive/Dual-CAN/compared_methods/bigru/utils.py (deflated 67%)\n",
            "  adding: content/drive/MyDrive/Dual-CAN/data/ (stored 0%)\n",
            "  adding: content/drive/MyDrive/Dual-CAN/data/CoAID/ (stored 0%)\n",
            "  adding: content/drive/MyDrive/Dual-CAN/data/CoAID/data_id/ (stored 0%)\n",
            "  adding: content/drive/MyDrive/Dual-CAN/data/CoAID/data_id/eval.txt (deflated 69%)\n",
            "  adding: content/drive/MyDrive/Dual-CAN/data/CoAID/data_id/test.txt (deflated 71%)\n",
            "  adding: content/drive/MyDrive/Dual-CAN/data/CoAID/data_id/train.txt (deflated 73%)\n",
            "  adding: content/drive/MyDrive/Dual-CAN/data/CoAID/get_data.py (deflated 73%)\n",
            "  adding: content/drive/MyDrive/Dual-CAN/data/CoAID/preprocess.py (deflated 69%)\n",
            "  adding: content/drive/MyDrive/Dual-CAN/data/GossipCop/ (stored 0%)\n",
            "  adding: content/drive/MyDrive/Dual-CAN/data/GossipCop/data_id/ (stored 0%)\n",
            "  adding: content/drive/MyDrive/Dual-CAN/data/GossipCop/data_id/eval.txt (deflated 75%)\n",
            "  adding: content/drive/MyDrive/Dual-CAN/data/GossipCop/data_id/test.txt (deflated 75%)\n",
            "  adding: content/drive/MyDrive/Dual-CAN/data/GossipCop/data_id/train.txt (deflated 76%)\n",
            "  adding: content/drive/MyDrive/Dual-CAN/data/GossipCop/preprocess.py (deflated 69%)\n",
            "  adding: content/drive/MyDrive/Dual-CAN/data/GossipCop/preprocess_tweets.py (deflated 67%)\n",
            "  adding: content/drive/MyDrive/Dual-CAN/data/LUN_SLN/ (stored 0%)\n",
            "  adding: content/drive/MyDrive/Dual-CAN/data/LUN_SLN/train.json (deflated 63%)\n",
            "  adding: content/drive/MyDrive/Dual-CAN/data/LUN_SLN/.ipynb_checkpoints/ (stored 0%)\n",
            "  adding: content/drive/MyDrive/Dual-CAN/data/LUN_SLN/eval.json (deflated 63%)\n",
            "  adding: content/drive/MyDrive/Dual-CAN/data/LUN_SLN/test.json (deflated 63%)\n",
            "  adding: content/drive/MyDrive/Dual-CAN/data/.ipynb_checkpoints/ (stored 0%)\n",
            "  adding: content/drive/MyDrive/Dual-CAN/.ipynb_checkpoints/ (stored 0%)\n"
          ]
        }
      ]
    },
    {
      "cell_type": "code",
      "source": [
        "import pandas as pd\n",
        "import json\n",
        "\n",
        "# read the CSV file into a pandas DataFrame\n",
        "df = pd.read_csv('/content/drive/MyDrive/dataset/fake_news_detection/lun_train_comparenet.csv', header=None, names=['label'])\n",
        "\n",
        "# create a dictionary mapping IDs to labels\n",
        "row_label_map = {i: row['label'] for i, row in df.iterrows()}\n",
        "\n",
        "# read the JSON file\n",
        "path='/content/drive/MyDrive/Dual-CAN/data/LUN_SLN/train.json'\n",
        "dataset=[]\n",
        "with open(path) as f:\n",
        "  for line in f:\n",
        "    dataset.append(json.loads(line))\n",
        "# iterate over objects in the JSON file\n",
        "for obj in dataset:\n",
        "    obj_id = obj['id']\n",
        "    obj_label = obj['label']\n",
        "\n",
        "    # check if the label in the CSV file matches the object's label\n",
        "    if obj_label == 'fake' and obj_id.startswith('fake'):\n",
        "        row_number = int(obj_id[4:])\n",
        "        obj['label'] = 'real'\n",
        "        obj['id'] = f'real{row_number}'\n",
        "    elif obj_label == 'real' and obj_id.startswith('real'):\n",
        "        row_number = int(obj_id[4:])\n",
        "        obj['label'] = 'fake'\n",
        "        obj['id'] = f'fake{row_number}'\n",
        "\n",
        "# write the updated JSON data to a file\n",
        "with open('/content/drive/MyDrive/Dual-CAN/train.json', 'w') as json_file:\n",
        "    json.dump(dataset, json_file, indent=4)\n"
      ],
      "metadata": {
        "id": "fvpK7xGrB_dP"
      },
      "execution_count": null,
      "outputs": []
    },
    {
      "cell_type": "code",
      "source": [],
      "metadata": {
        "id": "mijaEosjdCs3"
      },
      "execution_count": null,
      "outputs": []
    }
  ],
  "metadata": {
    "accelerator": "GPU",
    "colab": {
      "machine_shape": "hm",
      "provenance": [],
      "mount_file_id": "1C-IPcjNUkmmqj5hRlQdi6yYnhJnrd0ds",
      "authorship_tag": "ABX9TyMf6pUN9G+NCCfgvhIJzU/m",
      "include_colab_link": true
    },
    "gpuClass": "standard",
    "kernelspec": {
      "display_name": "Python 3",
      "name": "python3"
    },
    "language_info": {
      "name": "python"
    },
    "widgets": {
      "application/vnd.jupyter.widget-state+json": {
        "01da05cdda7842e0b438962d3adfba76": {
          "model_module": "@jupyter-widgets/controls",
          "model_module_version": "1.5.0",
          "model_name": "ProgressStyleModel",
          "state": {
            "_model_module": "@jupyter-widgets/controls",
            "_model_module_version": "1.5.0",
            "_model_name": "ProgressStyleModel",
            "_view_count": null,
            "_view_module": "@jupyter-widgets/base",
            "_view_module_version": "1.2.0",
            "_view_name": "StyleView",
            "bar_color": null,
            "description_width": ""
          }
        },
        "03211e81e8e349149b9b6aba75cf6579": {
          "model_module": "@jupyter-widgets/base",
          "model_module_version": "1.2.0",
          "model_name": "LayoutModel",
          "state": {
            "_model_module": "@jupyter-widgets/base",
            "_model_module_version": "1.2.0",
            "_model_name": "LayoutModel",
            "_view_count": null,
            "_view_module": "@jupyter-widgets/base",
            "_view_module_version": "1.2.0",
            "_view_name": "LayoutView",
            "align_content": null,
            "align_items": null,
            "align_self": null,
            "border": null,
            "bottom": null,
            "display": null,
            "flex": null,
            "flex_flow": null,
            "grid_area": null,
            "grid_auto_columns": null,
            "grid_auto_flow": null,
            "grid_auto_rows": null,
            "grid_column": null,
            "grid_gap": null,
            "grid_row": null,
            "grid_template_areas": null,
            "grid_template_columns": null,
            "grid_template_rows": null,
            "height": null,
            "justify_content": null,
            "justify_items": null,
            "left": null,
            "margin": null,
            "max_height": null,
            "max_width": null,
            "min_height": null,
            "min_width": null,
            "object_fit": null,
            "object_position": null,
            "order": null,
            "overflow": null,
            "overflow_x": null,
            "overflow_y": null,
            "padding": null,
            "right": null,
            "top": null,
            "visibility": null,
            "width": null
          }
        },
        "244820f437e94a229ad56939a9543ef5": {
          "model_module": "@jupyter-widgets/controls",
          "model_module_version": "1.5.0",
          "model_name": "DescriptionStyleModel",
          "state": {
            "_model_module": "@jupyter-widgets/controls",
            "_model_module_version": "1.5.0",
            "_model_name": "DescriptionStyleModel",
            "_view_count": null,
            "_view_module": "@jupyter-widgets/base",
            "_view_module_version": "1.2.0",
            "_view_name": "StyleView",
            "description_width": ""
          }
        },
        "268fafc7fd9243e9b8ac9a353d507c7d": {
          "model_module": "@jupyter-widgets/controls",
          "model_module_version": "1.5.0",
          "model_name": "HBoxModel",
          "state": {
            "_dom_classes": [],
            "_model_module": "@jupyter-widgets/controls",
            "_model_module_version": "1.5.0",
            "_model_name": "HBoxModel",
            "_view_count": null,
            "_view_module": "@jupyter-widgets/controls",
            "_view_module_version": "1.5.0",
            "_view_name": "HBoxView",
            "box_style": "",
            "children": [
              "IPY_MODEL_371da2bbc60f442eb5dd687f341ec7c6",
              "IPY_MODEL_c415d31ec240484f8111cb5a80891b70",
              "IPY_MODEL_4ce98b98420249bba55cd6822745ff97"
            ],
            "layout": "IPY_MODEL_3ac529c1eeed4f3b93d9060d4bdc1e2e"
          }
        },
        "286643aa98314c558b0d822f7c3615d9": {
          "model_module": "@jupyter-widgets/base",
          "model_module_version": "1.2.0",
          "model_name": "LayoutModel",
          "state": {
            "_model_module": "@jupyter-widgets/base",
            "_model_module_version": "1.2.0",
            "_model_name": "LayoutModel",
            "_view_count": null,
            "_view_module": "@jupyter-widgets/base",
            "_view_module_version": "1.2.0",
            "_view_name": "LayoutView",
            "align_content": null,
            "align_items": null,
            "align_self": null,
            "border": null,
            "bottom": null,
            "display": null,
            "flex": null,
            "flex_flow": null,
            "grid_area": null,
            "grid_auto_columns": null,
            "grid_auto_flow": null,
            "grid_auto_rows": null,
            "grid_column": null,
            "grid_gap": null,
            "grid_row": null,
            "grid_template_areas": null,
            "grid_template_columns": null,
            "grid_template_rows": null,
            "height": null,
            "justify_content": null,
            "justify_items": null,
            "left": null,
            "margin": null,
            "max_height": null,
            "max_width": null,
            "min_height": null,
            "min_width": null,
            "object_fit": null,
            "object_position": null,
            "order": null,
            "overflow": null,
            "overflow_x": null,
            "overflow_y": null,
            "padding": null,
            "right": null,
            "top": null,
            "visibility": null,
            "width": null
          }
        },
        "3472325a1b164191ba21180a03e8c413": {
          "model_module": "@jupyter-widgets/controls",
          "model_module_version": "1.5.0",
          "model_name": "DescriptionStyleModel",
          "state": {
            "_model_module": "@jupyter-widgets/controls",
            "_model_module_version": "1.5.0",
            "_model_name": "DescriptionStyleModel",
            "_view_count": null,
            "_view_module": "@jupyter-widgets/base",
            "_view_module_version": "1.2.0",
            "_view_name": "StyleView",
            "description_width": ""
          }
        },
        "371da2bbc60f442eb5dd687f341ec7c6": {
          "model_module": "@jupyter-widgets/controls",
          "model_module_version": "1.5.0",
          "model_name": "HTMLModel",
          "state": {
            "_dom_classes": [],
            "_model_module": "@jupyter-widgets/controls",
            "_model_module_version": "1.5.0",
            "_model_name": "HTMLModel",
            "_view_count": null,
            "_view_module": "@jupyter-widgets/controls",
            "_view_module_version": "1.5.0",
            "_view_name": "HTMLView",
            "description": "",
            "description_tooltip": null,
            "layout": "IPY_MODEL_286643aa98314c558b0d822f7c3615d9",
            "placeholder": "​",
            "style": "IPY_MODEL_935db9c7bb954113b5c997a069f271a6",
            "value": "Training epochs on cuda:0:   5%"
          }
        },
        "3ac529c1eeed4f3b93d9060d4bdc1e2e": {
          "model_module": "@jupyter-widgets/base",
          "model_module_version": "1.2.0",
          "model_name": "LayoutModel",
          "state": {
            "_model_module": "@jupyter-widgets/base",
            "_model_module_version": "1.2.0",
            "_model_name": "LayoutModel",
            "_view_count": null,
            "_view_module": "@jupyter-widgets/base",
            "_view_module_version": "1.2.0",
            "_view_name": "LayoutView",
            "align_content": null,
            "align_items": null,
            "align_self": null,
            "border": null,
            "bottom": null,
            "display": null,
            "flex": null,
            "flex_flow": null,
            "grid_area": null,
            "grid_auto_columns": null,
            "grid_auto_flow": null,
            "grid_auto_rows": null,
            "grid_column": null,
            "grid_gap": null,
            "grid_row": null,
            "grid_template_areas": null,
            "grid_template_columns": null,
            "grid_template_rows": null,
            "height": null,
            "justify_content": null,
            "justify_items": null,
            "left": null,
            "margin": null,
            "max_height": null,
            "max_width": null,
            "min_height": null,
            "min_width": null,
            "object_fit": null,
            "object_position": null,
            "order": null,
            "overflow": null,
            "overflow_x": null,
            "overflow_y": null,
            "padding": null,
            "right": null,
            "top": null,
            "visibility": null,
            "width": null
          }
        },
        "49369eb46f9e47139d1ec1c8a9b6e4f4": {
          "model_module": "@jupyter-widgets/controls",
          "model_module_version": "1.5.0",
          "model_name": "DescriptionStyleModel",
          "state": {
            "_model_module": "@jupyter-widgets/controls",
            "_model_module_version": "1.5.0",
            "_model_name": "DescriptionStyleModel",
            "_view_count": null,
            "_view_module": "@jupyter-widgets/base",
            "_view_module_version": "1.2.0",
            "_view_name": "StyleView",
            "description_width": ""
          }
        },
        "4ce98b98420249bba55cd6822745ff97": {
          "model_module": "@jupyter-widgets/controls",
          "model_module_version": "1.5.0",
          "model_name": "HTMLModel",
          "state": {
            "_dom_classes": [],
            "_model_module": "@jupyter-widgets/controls",
            "_model_module_version": "1.5.0",
            "_model_name": "HTMLModel",
            "_view_count": null,
            "_view_module": "@jupyter-widgets/controls",
            "_view_module_version": "1.5.0",
            "_view_name": "HTMLView",
            "description": "",
            "description_tooltip": null,
            "layout": "IPY_MODEL_baa928b5e8f443aea39f44a89ddeb0fb",
            "placeholder": "​",
            "style": "IPY_MODEL_3472325a1b164191ba21180a03e8c413",
            "value": " 1/20 [03:09&lt;59:51, 189.03s/epoch, loss=0.756, prev_loss=nan]"
          }
        },
        "4fc4a8d6f46a467f9aec758c4fc2e798": {
          "model_module": "@jupyter-widgets/controls",
          "model_module_version": "1.5.0",
          "model_name": "HTMLModel",
          "state": {
            "_dom_classes": [],
            "_model_module": "@jupyter-widgets/controls",
            "_model_module_version": "1.5.0",
            "_model_name": "HTMLModel",
            "_view_count": null,
            "_view_module": "@jupyter-widgets/controls",
            "_view_module_version": "1.5.0",
            "_view_name": "HTMLView",
            "description": "",
            "description_tooltip": null,
            "layout": "IPY_MODEL_b9f3ad8ca7de4cec906876654130f868",
            "placeholder": "​",
            "style": "IPY_MODEL_49369eb46f9e47139d1ec1c8a9b6e4f4",
            "value": " 1123/1123 [03:08&lt;00:00,  3.93batch/s]"
          }
        },
        "5eae5e49462d4db3bd984772bb878fe1": {
          "model_module": "@jupyter-widgets/controls",
          "model_module_version": "1.5.0",
          "model_name": "HTMLModel",
          "state": {
            "_dom_classes": [],
            "_model_module": "@jupyter-widgets/controls",
            "_model_module_version": "1.5.0",
            "_model_name": "HTMLModel",
            "_view_count": null,
            "_view_module": "@jupyter-widgets/controls",
            "_view_module_version": "1.5.0",
            "_view_name": "HTMLView",
            "description": "",
            "description_tooltip": null,
            "layout": "IPY_MODEL_8eaee2884cf848d6b3dbade5e5a0d62d",
            "placeholder": "​",
            "style": "IPY_MODEL_fd044f1b536b47bcbcf20d4564e48f15",
            "value": "Training batches on cuda:0:   0%"
          }
        },
        "64e52cbdb105434a97247ba179c28d79": {
          "model_module": "@jupyter-widgets/controls",
          "model_module_version": "1.5.0",
          "model_name": "HBoxModel",
          "state": {
            "_dom_classes": [],
            "_model_module": "@jupyter-widgets/controls",
            "_model_module_version": "1.5.0",
            "_model_name": "HBoxModel",
            "_view_count": null,
            "_view_module": "@jupyter-widgets/controls",
            "_view_module_version": "1.5.0",
            "_view_name": "HBoxView",
            "box_style": "",
            "children": [
              "IPY_MODEL_a7c24b9421a24bffaf8f82102e4860f0",
              "IPY_MODEL_902e14f17ca64c519486c930e2f4dac0",
              "IPY_MODEL_4fc4a8d6f46a467f9aec758c4fc2e798"
            ],
            "layout": "IPY_MODEL_c205c34ea69d45c89f3281de777c26ea"
          }
        },
        "6678e78a29cb4b179f19a1bf0209294a": {
          "model_module": "@jupyter-widgets/controls",
          "model_module_version": "1.5.0",
          "model_name": "ProgressStyleModel",
          "state": {
            "_model_module": "@jupyter-widgets/controls",
            "_model_module_version": "1.5.0",
            "_model_name": "ProgressStyleModel",
            "_view_count": null,
            "_view_module": "@jupyter-widgets/base",
            "_view_module_version": "1.2.0",
            "_view_name": "StyleView",
            "bar_color": null,
            "description_width": ""
          }
        },
        "707ff1d45c4a4dc6878838d169e42a3b": {
          "model_module": "@jupyter-widgets/controls",
          "model_module_version": "1.5.0",
          "model_name": "HBoxModel",
          "state": {
            "_dom_classes": [],
            "_model_module": "@jupyter-widgets/controls",
            "_model_module_version": "1.5.0",
            "_model_name": "HBoxModel",
            "_view_count": null,
            "_view_module": "@jupyter-widgets/controls",
            "_view_module_version": "1.5.0",
            "_view_name": "HBoxView",
            "box_style": "",
            "children": [
              "IPY_MODEL_5eae5e49462d4db3bd984772bb878fe1",
              "IPY_MODEL_a3cf564d70f54504af5354d2937081f0",
              "IPY_MODEL_9ae96c32e292443c9f188fadcd66eb4d"
            ],
            "layout": "IPY_MODEL_da4feac40eea4ed99a1caa2ef3d3658b"
          }
        },
        "807e7e6eae9f41b7aed684188cf8348a": {
          "model_module": "@jupyter-widgets/base",
          "model_module_version": "1.2.0",
          "model_name": "LayoutModel",
          "state": {
            "_model_module": "@jupyter-widgets/base",
            "_model_module_version": "1.2.0",
            "_model_name": "LayoutModel",
            "_view_count": null,
            "_view_module": "@jupyter-widgets/base",
            "_view_module_version": "1.2.0",
            "_view_name": "LayoutView",
            "align_content": null,
            "align_items": null,
            "align_self": null,
            "border": null,
            "bottom": null,
            "display": null,
            "flex": null,
            "flex_flow": null,
            "grid_area": null,
            "grid_auto_columns": null,
            "grid_auto_flow": null,
            "grid_auto_rows": null,
            "grid_column": null,
            "grid_gap": null,
            "grid_row": null,
            "grid_template_areas": null,
            "grid_template_columns": null,
            "grid_template_rows": null,
            "height": null,
            "justify_content": null,
            "justify_items": null,
            "left": null,
            "margin": null,
            "max_height": null,
            "max_width": null,
            "min_height": null,
            "min_width": null,
            "object_fit": null,
            "object_position": null,
            "order": null,
            "overflow": null,
            "overflow_x": null,
            "overflow_y": null,
            "padding": null,
            "right": null,
            "top": null,
            "visibility": null,
            "width": null
          }
        },
        "8eaee2884cf848d6b3dbade5e5a0d62d": {
          "model_module": "@jupyter-widgets/base",
          "model_module_version": "1.2.0",
          "model_name": "LayoutModel",
          "state": {
            "_model_module": "@jupyter-widgets/base",
            "_model_module_version": "1.2.0",
            "_model_name": "LayoutModel",
            "_view_count": null,
            "_view_module": "@jupyter-widgets/base",
            "_view_module_version": "1.2.0",
            "_view_name": "LayoutView",
            "align_content": null,
            "align_items": null,
            "align_self": null,
            "border": null,
            "bottom": null,
            "display": null,
            "flex": null,
            "flex_flow": null,
            "grid_area": null,
            "grid_auto_columns": null,
            "grid_auto_flow": null,
            "grid_auto_rows": null,
            "grid_column": null,
            "grid_gap": null,
            "grid_row": null,
            "grid_template_areas": null,
            "grid_template_columns": null,
            "grid_template_rows": null,
            "height": null,
            "justify_content": null,
            "justify_items": null,
            "left": null,
            "margin": null,
            "max_height": null,
            "max_width": null,
            "min_height": null,
            "min_width": null,
            "object_fit": null,
            "object_position": null,
            "order": null,
            "overflow": null,
            "overflow_x": null,
            "overflow_y": null,
            "padding": null,
            "right": null,
            "top": null,
            "visibility": null,
            "width": null
          }
        },
        "902e14f17ca64c519486c930e2f4dac0": {
          "model_module": "@jupyter-widgets/controls",
          "model_module_version": "1.5.0",
          "model_name": "FloatProgressModel",
          "state": {
            "_dom_classes": [],
            "_model_module": "@jupyter-widgets/controls",
            "_model_module_version": "1.5.0",
            "_model_name": "FloatProgressModel",
            "_view_count": null,
            "_view_module": "@jupyter-widgets/controls",
            "_view_module_version": "1.5.0",
            "_view_name": "ProgressView",
            "bar_style": "",
            "description": "",
            "description_tooltip": null,
            "layout": "IPY_MODEL_03211e81e8e349149b9b6aba75cf6579",
            "max": 1123,
            "min": 0,
            "orientation": "horizontal",
            "style": "IPY_MODEL_c641d898a13a4f4ba190d6510ce39114",
            "value": 1123
          }
        },
        "935db9c7bb954113b5c997a069f271a6": {
          "model_module": "@jupyter-widgets/controls",
          "model_module_version": "1.5.0",
          "model_name": "DescriptionStyleModel",
          "state": {
            "_model_module": "@jupyter-widgets/controls",
            "_model_module_version": "1.5.0",
            "_model_name": "DescriptionStyleModel",
            "_view_count": null,
            "_view_module": "@jupyter-widgets/base",
            "_view_module_version": "1.2.0",
            "_view_name": "StyleView",
            "description_width": ""
          }
        },
        "9ae96c32e292443c9f188fadcd66eb4d": {
          "model_module": "@jupyter-widgets/controls",
          "model_module_version": "1.5.0",
          "model_name": "HTMLModel",
          "state": {
            "_dom_classes": [],
            "_model_module": "@jupyter-widgets/controls",
            "_model_module_version": "1.5.0",
            "_model_name": "HTMLModel",
            "_view_count": null,
            "_view_module": "@jupyter-widgets/controls",
            "_view_module_version": "1.5.0",
            "_view_name": "HTMLView",
            "description": "",
            "description_tooltip": null,
            "layout": "IPY_MODEL_cffb4a6f27e14a18832e39dcbbe2a10e",
            "placeholder": "​",
            "style": "IPY_MODEL_c9a759b62def4aef84700aa6706a6a5f",
            "value": " 5/1123 [00:01&lt;03:35,  5.18batch/s]"
          }
        },
        "a3cf564d70f54504af5354d2937081f0": {
          "model_module": "@jupyter-widgets/controls",
          "model_module_version": "1.5.0",
          "model_name": "FloatProgressModel",
          "state": {
            "_dom_classes": [],
            "_model_module": "@jupyter-widgets/controls",
            "_model_module_version": "1.5.0",
            "_model_name": "FloatProgressModel",
            "_view_count": null,
            "_view_module": "@jupyter-widgets/controls",
            "_view_module_version": "1.5.0",
            "_view_name": "ProgressView",
            "bar_style": "",
            "description": "",
            "description_tooltip": null,
            "layout": "IPY_MODEL_d45011fc29e94b6794a7828d6a704263",
            "max": 1123,
            "min": 0,
            "orientation": "horizontal",
            "style": "IPY_MODEL_01da05cdda7842e0b438962d3adfba76",
            "value": 5
          }
        },
        "a7c24b9421a24bffaf8f82102e4860f0": {
          "model_module": "@jupyter-widgets/controls",
          "model_module_version": "1.5.0",
          "model_name": "HTMLModel",
          "state": {
            "_dom_classes": [],
            "_model_module": "@jupyter-widgets/controls",
            "_model_module_version": "1.5.0",
            "_model_name": "HTMLModel",
            "_view_count": null,
            "_view_module": "@jupyter-widgets/controls",
            "_view_module_version": "1.5.0",
            "_view_name": "HTMLView",
            "description": "",
            "description_tooltip": null,
            "layout": "IPY_MODEL_f94f3f15e6c2417d98357258205b3535",
            "placeholder": "​",
            "style": "IPY_MODEL_244820f437e94a229ad56939a9543ef5",
            "value": "Training batches on cuda:0: 100%"
          }
        },
        "b9f3ad8ca7de4cec906876654130f868": {
          "model_module": "@jupyter-widgets/base",
          "model_module_version": "1.2.0",
          "model_name": "LayoutModel",
          "state": {
            "_model_module": "@jupyter-widgets/base",
            "_model_module_version": "1.2.0",
            "_model_name": "LayoutModel",
            "_view_count": null,
            "_view_module": "@jupyter-widgets/base",
            "_view_module_version": "1.2.0",
            "_view_name": "LayoutView",
            "align_content": null,
            "align_items": null,
            "align_self": null,
            "border": null,
            "bottom": null,
            "display": null,
            "flex": null,
            "flex_flow": null,
            "grid_area": null,
            "grid_auto_columns": null,
            "grid_auto_flow": null,
            "grid_auto_rows": null,
            "grid_column": null,
            "grid_gap": null,
            "grid_row": null,
            "grid_template_areas": null,
            "grid_template_columns": null,
            "grid_template_rows": null,
            "height": null,
            "justify_content": null,
            "justify_items": null,
            "left": null,
            "margin": null,
            "max_height": null,
            "max_width": null,
            "min_height": null,
            "min_width": null,
            "object_fit": null,
            "object_position": null,
            "order": null,
            "overflow": null,
            "overflow_x": null,
            "overflow_y": null,
            "padding": null,
            "right": null,
            "top": null,
            "visibility": null,
            "width": null
          }
        },
        "baa928b5e8f443aea39f44a89ddeb0fb": {
          "model_module": "@jupyter-widgets/base",
          "model_module_version": "1.2.0",
          "model_name": "LayoutModel",
          "state": {
            "_model_module": "@jupyter-widgets/base",
            "_model_module_version": "1.2.0",
            "_model_name": "LayoutModel",
            "_view_count": null,
            "_view_module": "@jupyter-widgets/base",
            "_view_module_version": "1.2.0",
            "_view_name": "LayoutView",
            "align_content": null,
            "align_items": null,
            "align_self": null,
            "border": null,
            "bottom": null,
            "display": null,
            "flex": null,
            "flex_flow": null,
            "grid_area": null,
            "grid_auto_columns": null,
            "grid_auto_flow": null,
            "grid_auto_rows": null,
            "grid_column": null,
            "grid_gap": null,
            "grid_row": null,
            "grid_template_areas": null,
            "grid_template_columns": null,
            "grid_template_rows": null,
            "height": null,
            "justify_content": null,
            "justify_items": null,
            "left": null,
            "margin": null,
            "max_height": null,
            "max_width": null,
            "min_height": null,
            "min_width": null,
            "object_fit": null,
            "object_position": null,
            "order": null,
            "overflow": null,
            "overflow_x": null,
            "overflow_y": null,
            "padding": null,
            "right": null,
            "top": null,
            "visibility": null,
            "width": null
          }
        },
        "c205c34ea69d45c89f3281de777c26ea": {
          "model_module": "@jupyter-widgets/base",
          "model_module_version": "1.2.0",
          "model_name": "LayoutModel",
          "state": {
            "_model_module": "@jupyter-widgets/base",
            "_model_module_version": "1.2.0",
            "_model_name": "LayoutModel",
            "_view_count": null,
            "_view_module": "@jupyter-widgets/base",
            "_view_module_version": "1.2.0",
            "_view_name": "LayoutView",
            "align_content": null,
            "align_items": null,
            "align_self": null,
            "border": null,
            "bottom": null,
            "display": null,
            "flex": null,
            "flex_flow": null,
            "grid_area": null,
            "grid_auto_columns": null,
            "grid_auto_flow": null,
            "grid_auto_rows": null,
            "grid_column": null,
            "grid_gap": null,
            "grid_row": null,
            "grid_template_areas": null,
            "grid_template_columns": null,
            "grid_template_rows": null,
            "height": null,
            "justify_content": null,
            "justify_items": null,
            "left": null,
            "margin": null,
            "max_height": null,
            "max_width": null,
            "min_height": null,
            "min_width": null,
            "object_fit": null,
            "object_position": null,
            "order": null,
            "overflow": null,
            "overflow_x": null,
            "overflow_y": null,
            "padding": null,
            "right": null,
            "top": null,
            "visibility": "hidden",
            "width": null
          }
        },
        "c415d31ec240484f8111cb5a80891b70": {
          "model_module": "@jupyter-widgets/controls",
          "model_module_version": "1.5.0",
          "model_name": "FloatProgressModel",
          "state": {
            "_dom_classes": [],
            "_model_module": "@jupyter-widgets/controls",
            "_model_module_version": "1.5.0",
            "_model_name": "FloatProgressModel",
            "_view_count": null,
            "_view_module": "@jupyter-widgets/controls",
            "_view_module_version": "1.5.0",
            "_view_name": "ProgressView",
            "bar_style": "",
            "description": "",
            "description_tooltip": null,
            "layout": "IPY_MODEL_807e7e6eae9f41b7aed684188cf8348a",
            "max": 20,
            "min": 0,
            "orientation": "horizontal",
            "style": "IPY_MODEL_6678e78a29cb4b179f19a1bf0209294a",
            "value": 1
          }
        },
        "c641d898a13a4f4ba190d6510ce39114": {
          "model_module": "@jupyter-widgets/controls",
          "model_module_version": "1.5.0",
          "model_name": "ProgressStyleModel",
          "state": {
            "_model_module": "@jupyter-widgets/controls",
            "_model_module_version": "1.5.0",
            "_model_name": "ProgressStyleModel",
            "_view_count": null,
            "_view_module": "@jupyter-widgets/base",
            "_view_module_version": "1.2.0",
            "_view_name": "StyleView",
            "bar_color": null,
            "description_width": ""
          }
        },
        "c9a759b62def4aef84700aa6706a6a5f": {
          "model_module": "@jupyter-widgets/controls",
          "model_module_version": "1.5.0",
          "model_name": "DescriptionStyleModel",
          "state": {
            "_model_module": "@jupyter-widgets/controls",
            "_model_module_version": "1.5.0",
            "_model_name": "DescriptionStyleModel",
            "_view_count": null,
            "_view_module": "@jupyter-widgets/base",
            "_view_module_version": "1.2.0",
            "_view_name": "StyleView",
            "description_width": ""
          }
        },
        "cffb4a6f27e14a18832e39dcbbe2a10e": {
          "model_module": "@jupyter-widgets/base",
          "model_module_version": "1.2.0",
          "model_name": "LayoutModel",
          "state": {
            "_model_module": "@jupyter-widgets/base",
            "_model_module_version": "1.2.0",
            "_model_name": "LayoutModel",
            "_view_count": null,
            "_view_module": "@jupyter-widgets/base",
            "_view_module_version": "1.2.0",
            "_view_name": "LayoutView",
            "align_content": null,
            "align_items": null,
            "align_self": null,
            "border": null,
            "bottom": null,
            "display": null,
            "flex": null,
            "flex_flow": null,
            "grid_area": null,
            "grid_auto_columns": null,
            "grid_auto_flow": null,
            "grid_auto_rows": null,
            "grid_column": null,
            "grid_gap": null,
            "grid_row": null,
            "grid_template_areas": null,
            "grid_template_columns": null,
            "grid_template_rows": null,
            "height": null,
            "justify_content": null,
            "justify_items": null,
            "left": null,
            "margin": null,
            "max_height": null,
            "max_width": null,
            "min_height": null,
            "min_width": null,
            "object_fit": null,
            "object_position": null,
            "order": null,
            "overflow": null,
            "overflow_x": null,
            "overflow_y": null,
            "padding": null,
            "right": null,
            "top": null,
            "visibility": null,
            "width": null
          }
        },
        "d45011fc29e94b6794a7828d6a704263": {
          "model_module": "@jupyter-widgets/base",
          "model_module_version": "1.2.0",
          "model_name": "LayoutModel",
          "state": {
            "_model_module": "@jupyter-widgets/base",
            "_model_module_version": "1.2.0",
            "_model_name": "LayoutModel",
            "_view_count": null,
            "_view_module": "@jupyter-widgets/base",
            "_view_module_version": "1.2.0",
            "_view_name": "LayoutView",
            "align_content": null,
            "align_items": null,
            "align_self": null,
            "border": null,
            "bottom": null,
            "display": null,
            "flex": null,
            "flex_flow": null,
            "grid_area": null,
            "grid_auto_columns": null,
            "grid_auto_flow": null,
            "grid_auto_rows": null,
            "grid_column": null,
            "grid_gap": null,
            "grid_row": null,
            "grid_template_areas": null,
            "grid_template_columns": null,
            "grid_template_rows": null,
            "height": null,
            "justify_content": null,
            "justify_items": null,
            "left": null,
            "margin": null,
            "max_height": null,
            "max_width": null,
            "min_height": null,
            "min_width": null,
            "object_fit": null,
            "object_position": null,
            "order": null,
            "overflow": null,
            "overflow_x": null,
            "overflow_y": null,
            "padding": null,
            "right": null,
            "top": null,
            "visibility": null,
            "width": null
          }
        },
        "da4feac40eea4ed99a1caa2ef3d3658b": {
          "model_module": "@jupyter-widgets/base",
          "model_module_version": "1.2.0",
          "model_name": "LayoutModel",
          "state": {
            "_model_module": "@jupyter-widgets/base",
            "_model_module_version": "1.2.0",
            "_model_name": "LayoutModel",
            "_view_count": null,
            "_view_module": "@jupyter-widgets/base",
            "_view_module_version": "1.2.0",
            "_view_name": "LayoutView",
            "align_content": null,
            "align_items": null,
            "align_self": null,
            "border": null,
            "bottom": null,
            "display": null,
            "flex": null,
            "flex_flow": null,
            "grid_area": null,
            "grid_auto_columns": null,
            "grid_auto_flow": null,
            "grid_auto_rows": null,
            "grid_column": null,
            "grid_gap": null,
            "grid_row": null,
            "grid_template_areas": null,
            "grid_template_columns": null,
            "grid_template_rows": null,
            "height": null,
            "justify_content": null,
            "justify_items": null,
            "left": null,
            "margin": null,
            "max_height": null,
            "max_width": null,
            "min_height": null,
            "min_width": null,
            "object_fit": null,
            "object_position": null,
            "order": null,
            "overflow": null,
            "overflow_x": null,
            "overflow_y": null,
            "padding": null,
            "right": null,
            "top": null,
            "visibility": null,
            "width": null
          }
        },
        "f94f3f15e6c2417d98357258205b3535": {
          "model_module": "@jupyter-widgets/base",
          "model_module_version": "1.2.0",
          "model_name": "LayoutModel",
          "state": {
            "_model_module": "@jupyter-widgets/base",
            "_model_module_version": "1.2.0",
            "_model_name": "LayoutModel",
            "_view_count": null,
            "_view_module": "@jupyter-widgets/base",
            "_view_module_version": "1.2.0",
            "_view_name": "LayoutView",
            "align_content": null,
            "align_items": null,
            "align_self": null,
            "border": null,
            "bottom": null,
            "display": null,
            "flex": null,
            "flex_flow": null,
            "grid_area": null,
            "grid_auto_columns": null,
            "grid_auto_flow": null,
            "grid_auto_rows": null,
            "grid_column": null,
            "grid_gap": null,
            "grid_row": null,
            "grid_template_areas": null,
            "grid_template_columns": null,
            "grid_template_rows": null,
            "height": null,
            "justify_content": null,
            "justify_items": null,
            "left": null,
            "margin": null,
            "max_height": null,
            "max_width": null,
            "min_height": null,
            "min_width": null,
            "object_fit": null,
            "object_position": null,
            "order": null,
            "overflow": null,
            "overflow_x": null,
            "overflow_y": null,
            "padding": null,
            "right": null,
            "top": null,
            "visibility": null,
            "width": null
          }
        },
        "fd044f1b536b47bcbcf20d4564e48f15": {
          "model_module": "@jupyter-widgets/controls",
          "model_module_version": "1.5.0",
          "model_name": "DescriptionStyleModel",
          "state": {
            "_model_module": "@jupyter-widgets/controls",
            "_model_module_version": "1.5.0",
            "_model_name": "DescriptionStyleModel",
            "_view_count": null,
            "_view_module": "@jupyter-widgets/base",
            "_view_module_version": "1.2.0",
            "_view_name": "StyleView",
            "description_width": ""
          }
        }
      }
    }
  },
  "nbformat": 4,
  "nbformat_minor": 0
}